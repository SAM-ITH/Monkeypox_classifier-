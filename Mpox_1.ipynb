{
 "cells": [
  {
   "cell_type": "code",
   "execution_count": 14,
   "id": "initial_id",
   "metadata": {
    "collapsed": true,
    "ExecuteTime": {
     "end_time": "2024-04-21T05:06:46.682737Z",
     "start_time": "2024-04-21T05:06:45.769297Z"
    }
   },
   "outputs": [],
   "source": [
    "import  pandas as pd \n",
    "import  matplotlib.pyplot as plt"
   ]
  },
  {
   "cell_type": "code",
   "outputs": [],
   "source": [
    "data = pd.read_csv('monkeypox.csv')"
   ],
   "metadata": {
    "collapsed": false,
    "ExecuteTime": {
     "end_time": "2024-04-21T05:06:48.215846Z",
     "start_time": "2024-04-21T05:06:48.183959Z"
    }
   },
   "id": "a07e87fdba08a2fe",
   "execution_count": 15
  },
  {
   "cell_type": "code",
   "outputs": [],
   "source": [
    "retained_variables = ['Systemic Illness', 'Sore Throat', 'Rectal Pain', 'Penile Oedema', 'Oral Lesions',\n",
    "                      'Solitary Lesion', 'Swollen Tonsils', 'HIV Infection', 'Red blood cells',\n",
    "                      'White blood cells', 'Age', 'Sexually Transmitted Infection', 'MPOX']"
   ],
   "metadata": {
    "collapsed": false,
    "ExecuteTime": {
     "end_time": "2024-04-21T05:06:49.730604Z",
     "start_time": "2024-04-21T05:06:49.726500Z"
    }
   },
   "id": "5094852061c3074e",
   "execution_count": 16
  },
  {
   "cell_type": "code",
   "outputs": [],
   "source": [
    "retained_data = data[retained_variables]"
   ],
   "metadata": {
    "collapsed": false,
    "ExecuteTime": {
     "end_time": "2024-04-21T05:06:51.752659Z",
     "start_time": "2024-04-21T05:06:51.747957Z"
    }
   },
   "id": "afccfc515cdb005b",
   "execution_count": 17
  },
  {
   "cell_type": "code",
   "outputs": [
    {
     "name": "stdout",
     "output_type": "stream",
     "text": [
      "Basic Statistical Descriptions:\n",
      "        Sore Throat   Rectal Pain  Penile Oedema  Solitary Lesion  \\\n",
      "count  25000.000000  24997.000000   24994.000000     25000.000000   \n",
      "mean       0.502160      0.493819       0.504441         0.501080   \n",
      "std        0.500005      0.499972       0.499990         0.500009   \n",
      "min        0.000000      0.000000       0.000000         0.000000   \n",
      "25%        0.000000      0.000000       0.000000         0.000000   \n",
      "50%        1.000000      0.000000       1.000000         1.000000   \n",
      "75%        1.000000      1.000000       1.000000         1.000000   \n",
      "max        1.000000      1.000000       1.000000         1.000000   \n",
      "\n",
      "       Swollen Tonsils  HIV Infection  Red blood cells  White blood cells  \\\n",
      "count     24993.000000   24995.000000     2.500000e+04       25000.000000   \n",
      "mean          0.501260       0.503301     5.004591e+06        7749.114440   \n",
      "std           0.500008       0.499999     5.204760e+05        1885.213591   \n",
      "min           0.000000       0.000000     4.100135e+06        4500.000000   \n",
      "25%           0.000000       0.000000     4.555418e+06        6116.000000   \n",
      "50%           1.000000       1.000000     5.002304e+06        7747.000000   \n",
      "75%           1.000000       1.000000     5.458530e+06        9379.000000   \n",
      "max           1.000000       1.000000     5.899806e+06       11000.000000   \n",
      "\n",
      "       Sexually Transmitted Infection  \n",
      "count                    24996.000000  \n",
      "mean                         0.497880  \n",
      "std                          0.500006  \n",
      "min                          0.000000  \n",
      "25%                          0.000000  \n",
      "50%                          0.000000  \n",
      "75%                          1.000000  \n",
      "max                          1.000000  \n"
     ]
    }
   ],
   "source": [
    "print(\"Basic Statistical Descriptions:\")\n",
    "print(retained_data.describe())"
   ],
   "metadata": {
    "collapsed": false,
    "ExecuteTime": {
     "end_time": "2024-04-21T05:06:54.647442Z",
     "start_time": "2024-04-21T05:06:54.625855Z"
    }
   },
   "id": "b0cddf9210952ce4",
   "execution_count": 18
  },
  {
   "cell_type": "code",
   "outputs": [
    {
     "name": "stdout",
     "output_type": "stream",
     "text": [
      "\n",
      "Measurement Scale Types:\n",
      "Systemic Illness: Nominal\n",
      "Sore Throat: Binary\n",
      "Rectal Pain: Binary\n",
      "Penile Oedema: Binary\n",
      "Oral Lesions: Nominal\n",
      "Solitary Lesion: Binary\n",
      "Swollen Tonsils: Binary\n",
      "HIV Infection: Binary\n",
      "Red blood cells: Continuous\n",
      "White blood cells: Continuous\n",
      "Age: Nominal\n",
      "Sexually Transmitted Infection: Binary\n",
      "MPOX: Nominal\n"
     ]
    }
   ],
   "source": [
    "print(\"\\nMeasurement Scale Types:\")\n",
    "for column in retained_data.columns:\n",
    "    if retained_data[column].dtype == 'object':\n",
    "        scale_type = 'Nominal'\n",
    "    elif retained_data[column].nunique() == 2:\n",
    "        scale_type = 'Binary'\n",
    "    elif retained_data[column].nunique() < 10:\n",
    "        scale_type = 'Ordinal'\n",
    "    else:\n",
    "        scale_type = 'Continuous'\n",
    "    print(f\"{column}: {scale_type}\")"
   ],
   "metadata": {
    "collapsed": false,
    "ExecuteTime": {
     "end_time": "2024-04-21T05:06:56.370367Z",
     "start_time": "2024-04-21T05:06:56.344895Z"
    }
   },
   "id": "30f474d22b2b9b37",
   "execution_count": 19
  },
  {
   "cell_type": "code",
   "outputs": [
    {
     "data": {
      "text/plain": "<Figure size 600x400 with 1 Axes>",
      "image/png": "[encoded data removed]"
     },
     "metadata": {},
     "output_type": "display_data"
    }
   ],
   "source": [
    "plt.figure(figsize=(6, 4))\n",
    "plt.hist(retained_data['MPOX'], bins=2, edgecolor='black')\n",
    "plt.xlabel('MPOX')\n",
    "plt.ylabel('Frequency')\n",
    "plt.title('Distribution of MPOX Classes')\n",
    "plt.show()"
   ],
   "metadata": {
    "collapsed": false,
    "ExecuteTime": {
     "end_time": "2024-04-21T05:06:58.074748Z",
     "start_time": "2024-04-21T05:06:57.932085Z"
    }
   },
   "id": "268479e78e8550a3",
   "execution_count": 20
  },
  {
   "cell_type": "code",
   "outputs": [],
   "source": [],
   "metadata": {
    "collapsed": false
   },
   "id": "7e006292a6601700"
  }
 ],
 "metadata": {
  "kernelspec": {
   "display_name": "Python 3",
   "language": "python",
   "name": "python3"
  },
  "language_info": {
   "codemirror_mode": {
    "name": "ipython",
    "version": 2
   },
   "file_extension": ".py",
   "mimetype": "text/x-python",
   "name": "python",
   "nbconvert_exporter": "python",
   "pygments_lexer": "ipython2",
   "version": "2.7.6"
  }
 },
 "nbformat": 4,
 "nbformat_minor": 5
}
