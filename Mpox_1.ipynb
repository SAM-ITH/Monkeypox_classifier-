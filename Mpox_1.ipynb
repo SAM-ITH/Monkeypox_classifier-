{
 "cells": [
  {
   "cell_type": "code",
   "execution_count": null,
   "id": "initial_id",
   "metadata": {
    "collapsed": true
   },
   "outputs": [],
   "source": [
    "import  pandas as pd \n",
    "import  matplotlib.pyplot as plt"
   ]
  },
  {
   "cell_type": "code",
   "outputs": [],
   "source": [
    "data = pd.read_csv('monkeypox.csv')"
   ],
   "metadata": {
    "collapsed": false
   },
   "id": "a07e87fdba08a2fe",
   "execution_count": null
  },
  {
   "cell_type": "code",
   "outputs": [],
   "source": [
    "retained_variables = ['Systemic Illness', 'Sore Throat', 'Rectal Pain', 'Penile Oedema', 'Oral Lesions',\n",
    "                      'Solitary Lesion', 'Swollen Tonsils', 'HIV Infection', 'Red blood cells',\n",
    "                      'White blood cells', 'Age', 'Sexually Transmitted Infection', 'MPOX']"
   ],
   "metadata": {
    "collapsed": false
   },
   "id": "5094852061c3074e",
   "execution_count": null
  },
  {
   "cell_type": "code",
   "outputs": [],
   "source": [
    "retained_data = data[retained_variables]"
   ],
   "metadata": {
    "collapsed": false
   },
   "id": "afccfc515cdb005b",
   "execution_count": null
  },
  {
   "cell_type": "code",
   "outputs": [],
   "source": [
    "print(\"Basic Statistical Descriptions:\")\n",
    "print(retained_data.describe())"
   ],
   "metadata": {
    "collapsed": false
   },
   "id": "b0cddf9210952ce4",
   "execution_count": null
  },
  {
   "cell_type": "code",
   "outputs": [],
   "source": [
    "print(\"\\nMeasurement Scale Types:\")\n",
    "for column in retained_data.columns:\n",
    "    if retained_data[column].dtype == 'object':\n",
    "        scale_type = 'Nominal'\n",
    "    elif retained_data[column].nunique() == 2:\n",
    "        scale_type = 'Binary'\n",
    "    elif retained_data[column].nunique() < 10:\n",
    "        scale_type = 'Ordinal'\n",
    "    else:\n",
    "        scale_type = 'Continuous'\n",
    "    print(f\"{column}: {scale_type}\")"
   ],
   "metadata": {
    "collapsed": false
   },
   "id": "30f474d22b2b9b37",
   "execution_count": null
  },
  {
   "cell_type": "code",
   "outputs": [],
   "source": [
    "plt.figure(figsize=(6, 4))\n",
    "plt.hist(retained_data['MPOX'], bins=2, edgecolor='black')\n",
    "plt.xlabel('MPOX')\n",
    "plt.ylabel('Frequency')\n",
    "plt.title('Distribution of MPOX Classes')\n",
    "plt.show()"
   ],
   "metadata": {
    "collapsed": false
   },
   "id": "268479e78e8550a3",
   "execution_count": null
  },
  {
   "cell_type": "code",
   "outputs": [],
   "source": [],
   "metadata": {
    "collapsed": false
   },
   "id": "7e006292a6601700"
  }
 ],
 "metadata": {
  "kernelspec": {
   "display_name": "Python 3",
   "language": "python",
   "name": "python3"
  },
  "language_info": {
   "codemirror_mode": {
    "name": "ipython",
    "version": 2
   },
   "file_extension": ".py",
   "mimetype": "text/x-python",
   "name": "python",
   "nbconvert_exporter": "python",
   "pygments_lexer": "ipython2",
   "version": "2.7.6"
  }
 },
 "nbformat": 4,
 "nbformat_minor": 5
}
