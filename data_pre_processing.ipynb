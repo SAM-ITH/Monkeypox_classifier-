{
 "cells": [
  {
   "cell_type": "code",
   "execution_count": 1,
   "id": "initial_id",
   "metadata": {
    "collapsed": true,
    "ExecuteTime": {
     "end_time": "2024-04-21T09:20:40.239199Z",
     "start_time": "2024-04-21T09:20:39.781729Z"
    }
   },
   "outputs": [],
   "source": [
    "import pandas as pd"
   ]
  },
  {
   "cell_type": "code",
   "outputs": [],
   "source": [
    "data = pd.read_csv('monkeypox.csv')"
   ],
   "metadata": {
    "collapsed": false,
    "ExecuteTime": {
     "end_time": "2024-04-21T09:21:41.574492Z",
     "start_time": "2024-04-21T09:21:41.543483Z"
    }
   },
   "id": "e15bb9666eebe468",
   "execution_count": 2
  },
  {
   "cell_type": "code",
   "outputs": [
    {
     "name": "stdout",
     "output_type": "stream",
     "text": [
      "Number of rows before dropping missing values: 25000\n"
     ]
    }
   ],
   "source": [
    "print(\"Number of rows before dropping missing values:\", len(data))"
   ],
   "metadata": {
    "collapsed": false,
    "ExecuteTime": {
     "end_time": "2024-04-21T09:22:15.651730Z",
     "start_time": "2024-04-21T09:22:15.647751Z"
    }
   },
   "id": "c7f9cac6d410090c",
   "execution_count": 3
  },
  {
   "cell_type": "code",
   "outputs": [],
   "source": [
    "data = data.dropna()"
   ],
   "metadata": {
    "collapsed": false,
    "ExecuteTime": {
     "end_time": "2024-04-21T09:22:38.197132Z",
     "start_time": "2024-04-21T09:22:38.184410Z"
    }
   },
   "id": "3a1c5614d5202aac",
   "execution_count": 4
  },
  {
   "cell_type": "code",
   "outputs": [
    {
     "name": "stdout",
     "output_type": "stream",
     "text": [
      "Number of rows after dropping missing values: 18735\n"
     ]
    }
   ],
   "source": [
    "print(\"Number of rows after dropping missing values:\", len(data))"
   ],
   "metadata": {
    "collapsed": false,
    "ExecuteTime": {
     "end_time": "2024-04-21T09:22:56.492540Z",
     "start_time": "2024-04-21T09:22:56.488828Z"
    }
   },
   "id": "3b149ee11b5dfaed",
   "execution_count": 5
  },
  {
   "cell_type": "code",
   "outputs": [],
   "source": [
    "data.to_csv('monkeypox_cleaned.csv', index=False)"
   ],
   "metadata": {
    "collapsed": false,
    "ExecuteTime": {
     "end_time": "2024-04-21T09:34:53.751262Z",
     "start_time": "2024-04-21T09:34:53.672701Z"
    }
   },
   "id": "fc803a3e3c0c0662",
   "execution_count": 6
  },
  {
   "cell_type": "code",
   "outputs": [],
   "source": [],
   "metadata": {
    "collapsed": false
   },
   "id": "8d0f58c25f14342b"
  }
 ],
 "metadata": {
  "kernelspec": {
   "display_name": "Python 3",
   "language": "python",
   "name": "python3"
  },
  "language_info": {
   "codemirror_mode": {
    "name": "ipython",
    "version": 2
   },
   "file_extension": ".py",
   "mimetype": "text/x-python",
   "name": "python",
   "nbconvert_exporter": "python",
   "pygments_lexer": "ipython2",
   "version": "2.7.6"
  }
 },
 "nbformat": 4,
 "nbformat_minor": 5
}
