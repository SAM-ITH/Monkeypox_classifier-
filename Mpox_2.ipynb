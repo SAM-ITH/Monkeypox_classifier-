{
 "cells": [
  {
   "cell_type": "code",
   "execution_count": 1,
   "id": "initial_id",
   "metadata": {
    "collapsed": true,
    "ExecuteTime": {
     "end_time": "2024-04-21T10:23:49.911633Z",
     "start_time": "2024-04-21T10:23:49.015728Z"
    }
   },
   "outputs": [],
   "source": [
    "from sklearn.model_selection import train_test_split\n",
    "from sklearn.linear_model import LogisticRegression\n",
    "from sklearn.tree import DecisionTreeClassifier\n",
    "from sklearn.neighbors import KNeighborsClassifier\n",
    "from sklearn.svm import SVC\n",
    "from sklearn.naive_bayes import GaussianNB\n",
    "from sklearn.preprocessing import LabelEncoder\n",
    "import pandas as pd\n",
    "from sklearn.metrics import confusion_matrix"
   ]
  },
  {
   "cell_type": "code",
   "outputs": [],
   "source": [
    "data = pd.read_csv('monkeypox_cleaned.csv')"
   ],
   "metadata": {
    "collapsed": false,
    "ExecuteTime": {
     "end_time": "2024-04-21T10:23:52.178611Z",
     "start_time": "2024-04-21T10:23:52.145731Z"
    }
   },
   "id": "5d1991327786c1c5",
   "execution_count": 2
  },
  {
   "cell_type": "code",
   "outputs": [],
   "source": [
    "X = data[['Systemic Illness', 'Rectal Pain', 'Sore Throat', 'Penile Oedema', 'Oral Lesions',\n",
    "          'Solitary Lesion', 'Swollen Tonsils', 'HIV Infection', 'Red blood cells', 'White blood cells',\n",
    "          'Age', 'Sexually Transmitted Infection']]\n",
    "y = data['MPOX']"
   ],
   "metadata": {
    "collapsed": false,
    "ExecuteTime": {
     "end_time": "2024-04-21T10:23:53.764789Z",
     "start_time": "2024-04-21T10:23:53.759501Z"
    }
   },
   "id": "b05fd07db89c5a2e",
   "execution_count": 3
  },
  {
   "cell_type": "code",
   "outputs": [],
   "source": [
    "le = LabelEncoder()"
   ],
   "metadata": {
    "collapsed": false,
    "ExecuteTime": {
     "end_time": "2024-04-21T10:23:55.171749Z",
     "start_time": "2024-04-21T10:23:55.165194Z"
    }
   },
   "id": "115517f8e726eb95",
   "execution_count": 4
  },
  {
   "cell_type": "code",
   "outputs": [
    {
     "name": "stderr",
     "output_type": "stream",
     "text": [
      "/var/folders/dv/xjpdby2904x0nl38c43q_pc00000gp/T/ipykernel_31815/2270712949.py:4: SettingWithCopyWarning: \n",
      "A value is trying to be set on a copy of a slice from a DataFrame.\n",
      "Try using .loc[row_indexer,col_indexer] = value instead\n",
      "\n",
      "See the caveats in the documentation: https://pandas.pydata.org/pandas-docs/stable/user_guide/indexing.html#returning-a-view-versus-a-copy\n",
      "  X[feature] = le.fit_transform(X[feature])\n",
      "/var/folders/dv/xjpdby2904x0nl38c43q_pc00000gp/T/ipykernel_31815/2270712949.py:4: SettingWithCopyWarning: \n",
      "A value is trying to be set on a copy of a slice from a DataFrame.\n",
      "Try using .loc[row_indexer,col_indexer] = value instead\n",
      "\n",
      "See the caveats in the documentation: https://pandas.pydata.org/pandas-docs/stable/user_guide/indexing.html#returning-a-view-versus-a-copy\n",
      "  X[feature] = le.fit_transform(X[feature])\n",
      "/var/folders/dv/xjpdby2904x0nl38c43q_pc00000gp/T/ipykernel_31815/2270712949.py:4: SettingWithCopyWarning: \n",
      "A value is trying to be set on a copy of a slice from a DataFrame.\n",
      "Try using .loc[row_indexer,col_indexer] = value instead\n",
      "\n",
      "See the caveats in the documentation: https://pandas.pydata.org/pandas-docs/stable/user_guide/indexing.html#returning-a-view-versus-a-copy\n",
      "  X[feature] = le.fit_transform(X[feature])\n",
      "/var/folders/dv/xjpdby2904x0nl38c43q_pc00000gp/T/ipykernel_31815/2270712949.py:4: SettingWithCopyWarning: \n",
      "A value is trying to be set on a copy of a slice from a DataFrame.\n",
      "Try using .loc[row_indexer,col_indexer] = value instead\n",
      "\n",
      "See the caveats in the documentation: https://pandas.pydata.org/pandas-docs/stable/user_guide/indexing.html#returning-a-view-versus-a-copy\n",
      "  X[feature] = le.fit_transform(X[feature])\n",
      "/var/folders/dv/xjpdby2904x0nl38c43q_pc00000gp/T/ipykernel_31815/2270712949.py:4: SettingWithCopyWarning: \n",
      "A value is trying to be set on a copy of a slice from a DataFrame.\n",
      "Try using .loc[row_indexer,col_indexer] = value instead\n",
      "\n",
      "See the caveats in the documentation: https://pandas.pydata.org/pandas-docs/stable/user_guide/indexing.html#returning-a-view-versus-a-copy\n",
      "  X[feature] = le.fit_transform(X[feature])\n",
      "/var/folders/dv/xjpdby2904x0nl38c43q_pc00000gp/T/ipykernel_31815/2270712949.py:4: SettingWithCopyWarning: \n",
      "A value is trying to be set on a copy of a slice from a DataFrame.\n",
      "Try using .loc[row_indexer,col_indexer] = value instead\n",
      "\n",
      "See the caveats in the documentation: https://pandas.pydata.org/pandas-docs/stable/user_guide/indexing.html#returning-a-view-versus-a-copy\n",
      "  X[feature] = le.fit_transform(X[feature])\n",
      "/var/folders/dv/xjpdby2904x0nl38c43q_pc00000gp/T/ipykernel_31815/2270712949.py:4: SettingWithCopyWarning: \n",
      "A value is trying to be set on a copy of a slice from a DataFrame.\n",
      "Try using .loc[row_indexer,col_indexer] = value instead\n",
      "\n",
      "See the caveats in the documentation: https://pandas.pydata.org/pandas-docs/stable/user_guide/indexing.html#returning-a-view-versus-a-copy\n",
      "  X[feature] = le.fit_transform(X[feature])\n",
      "/var/folders/dv/xjpdby2904x0nl38c43q_pc00000gp/T/ipykernel_31815/2270712949.py:4: SettingWithCopyWarning: \n",
      "A value is trying to be set on a copy of a slice from a DataFrame.\n",
      "Try using .loc[row_indexer,col_indexer] = value instead\n",
      "\n",
      "See the caveats in the documentation: https://pandas.pydata.org/pandas-docs/stable/user_guide/indexing.html#returning-a-view-versus-a-copy\n",
      "  X[feature] = le.fit_transform(X[feature])\n",
      "/var/folders/dv/xjpdby2904x0nl38c43q_pc00000gp/T/ipykernel_31815/2270712949.py:4: SettingWithCopyWarning: \n",
      "A value is trying to be set on a copy of a slice from a DataFrame.\n",
      "Try using .loc[row_indexer,col_indexer] = value instead\n",
      "\n",
      "See the caveats in the documentation: https://pandas.pydata.org/pandas-docs/stable/user_guide/indexing.html#returning-a-view-versus-a-copy\n",
      "  X[feature] = le.fit_transform(X[feature])\n"
     ]
    }
   ],
   "source": [
    "categorical_features = ['Systemic Illness', 'Rectal Pain', 'Sore Throat', 'Penile Oedema', 'Oral Lesions',\n",
    "                        'Solitary Lesion', 'Swollen Tonsils', 'HIV Infection', 'Sexually Transmitted Infection']\n",
    "for feature in categorical_features:\n",
    "    X[feature] = le.fit_transform(X[feature])"
   ],
   "metadata": {
    "collapsed": false,
    "ExecuteTime": {
     "end_time": "2024-04-21T10:23:57.055988Z",
     "start_time": "2024-04-21T10:23:57.043285Z"
    }
   },
   "id": "24861136ea748e2e",
   "execution_count": 5
  },
  {
   "cell_type": "code",
   "outputs": [],
   "source": [
    "test_size = 0.2\n",
    "random_state = 42\n",
    "X_train, X_test, y_train, y_test = train_test_split(X, y, test_size=test_size, random_state=random_state, stratify=y)"
   ],
   "metadata": {
    "collapsed": false,
    "ExecuteTime": {
     "end_time": "2024-04-21T10:24:01.631815Z",
     "start_time": "2024-04-21T10:24:01.612812Z"
    }
   },
   "id": "23a3862f35d5c119",
   "execution_count": 6
  },
  {
   "cell_type": "code",
   "outputs": [
    {
     "name": "stdout",
     "output_type": "stream",
     "text": [
      "Feature names used for building the classification models:\n",
      "['Systemic Illness', 'Rectal Pain', 'Sore Throat', 'Penile Oedema', 'Oral Lesions', 'Solitary Lesion', 'Swollen Tonsils', 'HIV Infection', 'Red blood cells', 'White blood cells', 'Age', 'Sexually Transmitted Infection']\n"
     ]
    }
   ],
   "source": [
    "print(\"Feature names used for building the classification models:\")\n",
    "print(X.columns.tolist())"
   ],
   "metadata": {
    "collapsed": false,
    "ExecuteTime": {
     "end_time": "2024-04-21T10:24:03.755701Z",
     "start_time": "2024-04-21T10:24:03.749645Z"
    }
   },
   "id": "ca08366289f6b666",
   "execution_count": 7
  },
  {
   "cell_type": "code",
   "outputs": [
    {
     "name": "stdout",
     "output_type": "stream",
     "text": [
      "\n",
      "Shape of the training set (X_train): (14988, 12)\n",
      "Shape of the training set (y_train): (14988,)\n",
      "Shape of the test set (X_test): (3747, 12)\n",
      "Shape of the test set (y_test): (3747,)\n"
     ]
    }
   ],
   "source": [
    "print(\"\\nShape of the training set (X_train):\", X_train.shape)\n",
    "print(\"Shape of the training set (y_train):\", y_train.shape)\n",
    "print(\"Shape of the test set (X_test):\", X_test.shape)\n",
    "print(\"Shape of the test set (y_test):\", y_test.shape)"
   ],
   "metadata": {
    "collapsed": false,
    "ExecuteTime": {
     "end_time": "2024-04-21T10:24:05.400018Z",
     "start_time": "2024-04-21T10:24:05.396373Z"
    }
   },
   "id": "5cf038a6438006f3",
   "execution_count": 8
  },
  {
   "cell_type": "code",
   "outputs": [],
   "source": [
    "lr_model = LogisticRegression(random_state=random_state)\n",
    "dt_model = DecisionTreeClassifier(random_state=random_state)\n",
    "knn_model = KNeighborsClassifier()\n",
    "svm_model = SVC(kernel='rbf', random_state=random_state)\n",
    "nb_model = GaussianNB()\n",
    "\n",
    "models = [lr_model, dt_model, knn_model, svm_model, nb_model]\n",
    "\n",
    "for model in models:\n",
    "    model.fit(X_train, y_train)"
   ],
   "metadata": {
    "collapsed": false,
    "ExecuteTime": {
     "end_time": "2024-04-21T10:24:11.025586Z",
     "start_time": "2024-04-21T10:24:08.141095Z"
    }
   },
   "id": "d88b857caf54bf57",
   "execution_count": 9
  },
  {
   "cell_type": "code",
   "outputs": [],
   "source": [
    "models = [lr_model, dt_model, knn_model, svm_model, nb_model]\n",
    "model_names = ['Logistic Regression', 'Decision Tree', 'K-Nearest Neighbors', 'Support Vector Machine (RBF)', 'Naive Bayes']"
   ],
   "metadata": {
    "collapsed": false,
    "ExecuteTime": {
     "end_time": "2024-04-21T10:24:25.485978Z",
     "start_time": "2024-04-21T10:24:25.479046Z"
    }
   },
   "id": "3d414b1596acb430",
   "execution_count": 10
  },
  {
   "cell_type": "code",
   "outputs": [
    {
     "name": "stdout",
     "output_type": "stream",
     "text": [
      "Confusion Matrix for Logistic Regression:\n",
      "[[   0 1237]\n",
      " [   0 2510]]\n",
      "\n",
      "Confusion Matrix for Decision Tree:\n",
      "[[ 489  748]\n",
      " [ 767 1743]]\n",
      "\n",
      "Confusion Matrix for K-Nearest Neighbors:\n",
      "[[ 275  962]\n",
      " [ 493 2017]]\n",
      "Confusion Matrix for Support Vector Machine (RBF):\n",
      "[[   0 1237]\n",
      " [   0 2510]]\n",
      "\n",
      "Confusion Matrix for Naive Bayes:\n",
      "[[   0 1237]\n",
      " [   0 2510]]\n"
     ]
    }
   ],
   "source": [
    "for model, name in zip(models, model_names):\n",
    "    # Make predictions on the test set\n",
    "    y_pred = model.predict(X_test)\n",
    "    \n",
    "    # Compute the confusion matrix\n",
    "    cm = confusion_matrix(y_test, y_pred)\n",
    "    \n",
    "    # Print the confusion matrix for each model\n",
    "    print(f\"Confusion Matrix for {name}:\")\n",
    "    print(cm)\n",
    "    print()"
   ],
   "metadata": {
    "collapsed": false,
    "ExecuteTime": {
     "end_time": "2024-04-21T10:24:51.617293Z",
     "start_time": "2024-04-21T10:24:50.358019Z"
    }
   },
   "id": "8f01de67c950c178",
   "execution_count": 11
  },
  {
   "cell_type": "code",
   "outputs": [],
   "source": [],
   "metadata": {
    "collapsed": false
   },
   "id": "f0cb93e395083652"
  }
 ],
 "metadata": {
  "kernelspec": {
   "display_name": "Python 3",
   "language": "python",
   "name": "python3"
  },
  "language_info": {
   "codemirror_mode": {
    "name": "ipython",
    "version": 2
   },
   "file_extension": ".py",
   "mimetype": "text/x-python",
   "name": "python",
   "nbconvert_exporter": "python",
   "pygments_lexer": "ipython2",
   "version": "2.7.6"
  }
 },
 "nbformat": 4,
 "nbformat_minor": 5
}
