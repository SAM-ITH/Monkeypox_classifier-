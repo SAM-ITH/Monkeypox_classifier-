{
 "cells": [
  {
   "cell_type": "code",
   "execution_count": 26,
   "id": "initial_id",
   "metadata": {
    "collapsed": true,
    "ExecuteTime": {
     "end_time": "2024-04-21T09:35:49.226562Z",
     "start_time": "2024-04-21T09:35:49.223709Z"
    }
   },
   "outputs": [],
   "source": [
    "from sklearn.model_selection import train_test_split\n",
    "from sklearn.linear_model import LogisticRegression\n",
    "from sklearn.tree import DecisionTreeClassifier\n",
    "from sklearn.neighbors import KNeighborsClassifier\n",
    "from sklearn.svm import SVC\n",
    "from sklearn.naive_bayes import GaussianNB\n",
    "from sklearn.preprocessing import LabelEncoder\n",
    "import pandas as pd"
   ]
  },
  {
   "cell_type": "code",
   "outputs": [],
   "source": [
    "data = pd.read_csv('monkeypox_cleaned.csv')"
   ],
   "metadata": {
    "collapsed": false,
    "ExecuteTime": {
     "end_time": "2024-04-21T09:35:50.908396Z",
     "start_time": "2024-04-21T09:35:50.885956Z"
    }
   },
   "id": "5d1991327786c1c5",
   "execution_count": 27
  },
  {
   "cell_type": "code",
   "outputs": [],
   "source": [
    "X = data[['Systemic Illness', 'Rectal Pain', 'Sore Throat', 'Penile Oedema', 'Oral Lesions',\n",
    "          'Solitary Lesion', 'Swollen Tonsils', 'HIV Infection', 'Red blood cells', 'White blood cells',\n",
    "          'Age', 'Sexually Transmitted Infection']]\n",
    "y = data['MPOX']"
   ],
   "metadata": {
    "collapsed": false,
    "ExecuteTime": {
     "end_time": "2024-04-21T09:35:51.975157Z",
     "start_time": "2024-04-21T09:35:51.972608Z"
    }
   },
   "id": "b05fd07db89c5a2e",
   "execution_count": 28
  },
  {
   "cell_type": "code",
   "outputs": [],
   "source": [
    "le = LabelEncoder()"
   ],
   "metadata": {
    "collapsed": false,
    "ExecuteTime": {
     "end_time": "2024-04-21T09:35:53.381225Z",
     "start_time": "2024-04-21T09:35:53.379920Z"
    }
   },
   "id": "115517f8e726eb95",
   "execution_count": 29
  },
  {
   "cell_type": "code",
   "outputs": [],
   "source": [
    "categorical_features = ['Systemic Illness', 'Rectal Pain', 'Sore Throat', 'Penile Oedema', 'Oral Lesions',\n",
    "                        'Solitary Lesion', 'Swollen Tonsils', 'HIV Infection', 'Sexually Transmitted Infection']\n",
    "for feature in categorical_features:\n",
    "    X[feature] = le.fit_transform(X[feature])"
   ],
   "metadata": {
    "collapsed": false
   },
   "id": "24861136ea748e2e",
   "execution_count": null
  },
  {
   "cell_type": "code",
   "outputs": [],
   "source": [
    "test_size = 0.2\n",
    "random_state = 42\n",
    "X_train, X_test, y_train, y_test = train_test_split(X, y, test_size=test_size, random_state=random_state, stratify=y)"
   ],
   "metadata": {
    "collapsed": false,
    "ExecuteTime": {
     "end_time": "2024-04-21T09:36:00.551213Z",
     "start_time": "2024-04-21T09:36:00.543794Z"
    }
   },
   "id": "23a3862f35d5c119",
   "execution_count": 31
  },
  {
   "cell_type": "code",
   "outputs": [],
   "source": [
    "print(\"Feature names used for building the classification models:\")\n",
    "print(X.columns.tolist())"
   ],
   "metadata": {
    "collapsed": false
   },
   "id": "ca08366289f6b666",
   "execution_count": null
  },
  {
   "cell_type": "code",
   "outputs": [],
   "source": [
    "print(\"\\nShape of the training set (X_train):\", X_train.shape)\n",
    "print(\"Shape of the training set (y_train):\", y_train.shape)\n",
    "print(\"Shape of the test set (X_test):\", X_test.shape)\n",
    "print(\"Shape of the test set (y_test):\", y_test.shape)"
   ],
   "metadata": {
    "collapsed": false
   },
   "id": "5cf038a6438006f3",
   "execution_count": null
  },
  {
   "cell_type": "code",
   "outputs": [],
   "source": [
    "lr_model = LogisticRegression(random_state=random_state)\n",
    "dt_model = DecisionTreeClassifier(random_state=random_state)\n",
    "knn_model = KNeighborsClassifier()\n",
    "svm_model = SVC(kernel='rbf', random_state=random_state)\n",
    "nb_model = GaussianNB()\n",
    "\n",
    "models = [lr_model, dt_model, knn_model, svm_model, nb_model]\n",
    "\n",
    "for model in models:\n",
    "    model.fit(X_train, y_train)"
   ],
   "metadata": {
    "collapsed": false,
    "ExecuteTime": {
     "end_time": "2024-04-21T09:36:09.112629Z",
     "start_time": "2024-04-21T09:36:06.180844Z"
    }
   },
   "id": "d88b857caf54bf57",
   "execution_count": 34
  },
  {
   "cell_type": "code",
   "outputs": [],
   "source": [],
   "metadata": {
    "collapsed": false
   },
   "id": "3d414b1596acb430"
  }
 ],
 "metadata": {
  "kernelspec": {
   "display_name": "Python 3",
   "language": "python",
   "name": "python3"
  },
  "language_info": {
   "codemirror_mode": {
    "name": "ipython",
    "version": 2
   },
   "file_extension": ".py",
   "mimetype": "text/x-python",
   "name": "python",
   "nbconvert_exporter": "python",
   "pygments_lexer": "ipython2",
   "version": "2.7.6"
  }
 },
 "nbformat": 4,
 "nbformat_minor": 5
}
