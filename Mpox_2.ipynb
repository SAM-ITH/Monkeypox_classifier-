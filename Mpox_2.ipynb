{
 "cells": [
  {
   "cell_type": "code",
   "execution_count": 2,
   "id": "initial_id",
   "metadata": {
    "collapsed": true,
    "ExecuteTime": {
     "end_time": "2024-04-21T08:35:02.755313Z",
     "start_time": "2024-04-21T08:35:02.286413Z"
    }
   },
   "outputs": [],
   "source": [
    "from sklearn.model_selection import train_test_split\n",
    "from sklearn.linear_model import LogisticRegression\n",
    "from sklearn.tree import DecisionTreeClassifier\n",
    "from sklearn.neighbors import KNeighborsClassifier\n",
    "from sklearn.svm import SVC\n",
    "from sklearn.naive_bayes import GaussianNB\n",
    "import pandas as pd"
   ]
  },
  {
   "cell_type": "code",
   "outputs": [],
   "source": [
    "data = pd.read_csv('monkeypox.csv')"
   ],
   "metadata": {
    "collapsed": false,
    "ExecuteTime": {
     "end_time": "2024-04-21T08:35:05.038877Z",
     "start_time": "2024-04-21T08:35:05.003520Z"
    }
   },
   "id": "5d1991327786c1c5",
   "execution_count": 3
  },
  {
   "cell_type": "code",
   "outputs": [],
   "source": [
    "X = data[['Systemic Illness', 'Rectal Pain', 'Sore Throat', 'Penile Oedema', 'Oral Lesions',\n",
    "          'Solitary Lesion', 'Swollen Tonsils', 'HIV Infection', 'Red blood cells', 'White blood cells',\n",
    "          'Age', 'Sexually Transmitted Infection']]\n",
    "y = data['MPOX']"
   ],
   "metadata": {
    "collapsed": false,
    "ExecuteTime": {
     "end_time": "2024-04-21T08:35:25.990665Z",
     "start_time": "2024-04-21T08:35:25.987641Z"
    }
   },
   "id": "b05fd07db89c5a2e",
   "execution_count": 4
  },
  {
   "cell_type": "code",
   "outputs": [],
   "source": [
    "test_size = 0.2\n",
    "random_state = 42\n",
    "X_train, X_test, y_train, y_test = train_test_split(X, y, test_size=test_size, random_state=random_state, stratify=y)"
   ],
   "metadata": {
    "collapsed": false,
    "ExecuteTime": {
     "end_time": "2024-04-21T08:35:51.989302Z",
     "start_time": "2024-04-21T08:35:51.973116Z"
    }
   },
   "id": "115517f8e726eb95",
   "execution_count": 5
  },
  {
   "cell_type": "code",
   "outputs": [],
   "source": [
    "print(\"Feature names used for building the classification models:\")\n",
    "print(X.columns.tolist())"
   ],
   "metadata": {
    "collapsed": false
   },
   "id": "24861136ea748e2e",
   "execution_count": null
  },
  {
   "cell_type": "code",
   "outputs": [],
   "source": [
    "print(\"\\nShape of the training set (X_train):\", X_train.shape)\n",
    "print(\"Shape of the training set (y_train):\", y_train.shape)\n",
    "print(\"Shape of the test set (X_test):\", X_test.shape)\n",
    "print(\"Shape of the test set (y_test):\", y_test.shape)"
   ],
   "metadata": {
    "collapsed": false
   },
   "id": "3ed475e6a6030064",
   "execution_count": null
  },
  {
   "cell_type": "code",
   "outputs": [],
   "source": [
    "lr_model = LogisticRegression(random_state=random_state)"
   ],
   "metadata": {
    "collapsed": false,
    "ExecuteTime": {
     "end_time": "2024-04-21T08:37:40.802728Z",
     "start_time": "2024-04-21T08:37:40.799668Z"
    }
   },
   "id": "5cf606ba03b11ef5",
   "execution_count": 9
  },
  {
   "cell_type": "code",
   "outputs": [],
   "source": [
    "dt_model = DecisionTreeClassifier(random_state=random_state)"
   ],
   "metadata": {
    "collapsed": false,
    "ExecuteTime": {
     "end_time": "2024-04-21T08:37:52.302272Z",
     "start_time": "2024-04-21T08:37:52.296343Z"
    }
   },
   "id": "7775115bf8303ebb",
   "execution_count": 10
  },
  {
   "cell_type": "code",
   "outputs": [],
   "source": [
    "knn_model = KNeighborsClassifier()"
   ],
   "metadata": {
    "collapsed": false,
    "ExecuteTime": {
     "end_time": "2024-04-21T08:38:03.864466Z",
     "start_time": "2024-04-21T08:38:03.857608Z"
    }
   },
   "id": "be2121fc6f922b3",
   "execution_count": 11
  },
  {
   "cell_type": "code",
   "outputs": [],
   "source": [
    "svm_model = SVC(kernel='rbf', random_state=random_state)"
   ],
   "metadata": {
    "collapsed": false,
    "ExecuteTime": {
     "end_time": "2024-04-21T08:38:14.687228Z",
     "start_time": "2024-04-21T08:38:14.681227Z"
    }
   },
   "id": "a38f71998193ccb7",
   "execution_count": 12
  },
  {
   "cell_type": "code",
   "outputs": [],
   "source": [
    "nb_model = GaussianNB()"
   ],
   "metadata": {
    "collapsed": false,
    "ExecuteTime": {
     "end_time": "2024-04-21T08:38:22.736313Z",
     "start_time": "2024-04-21T08:38:22.734337Z"
    }
   },
   "id": "d11d05362e14fdd3",
   "execution_count": 13
  },
  {
   "cell_type": "code",
   "outputs": [],
   "source": [
    "models = [lr_model, dt_model, knn_model, svm_model, nb_model]"
   ],
   "metadata": {
    "collapsed": false,
    "ExecuteTime": {
     "end_time": "2024-04-21T08:38:34.935339Z",
     "start_time": "2024-04-21T08:38:34.930567Z"
    }
   },
   "id": "5c3ceca599e1a372",
   "execution_count": 14
  },
  {
   "cell_type": "code",
   "outputs": [],
   "source": [
    "for model in models:\n",
    "    model.fit(X_train, y_train)"
   ],
   "metadata": {
    "collapsed": false
   },
   "id": "9fe3d56ceeae80c9",
   "execution_count": null
  },
  {
   "cell_type": "code",
   "outputs": [],
   "source": [],
   "metadata": {
    "collapsed": false
   },
   "id": "65c1ad85dbc28ed7"
  }
 ],
 "metadata": {
  "kernelspec": {
   "display_name": "Python 3",
   "language": "python",
   "name": "python3"
  },
  "language_info": {
   "codemirror_mode": {
    "name": "ipython",
    "version": 2
   },
   "file_extension": ".py",
   "mimetype": "text/x-python",
   "name": "python",
   "nbconvert_exporter": "python",
   "pygments_lexer": "ipython2",
   "version": "2.7.6"
  }
 },
 "nbformat": 4,
 "nbformat_minor": 5
}
