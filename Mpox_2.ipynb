{
 "cells": [
  {
   "cell_type": "code",
   "execution_count": null,
   "id": "initial_id",
   "metadata": {
    "collapsed": true
   },
   "outputs": [],
   "source": [
    "from sklearn.model_selection import train_test_split\n",
    "from sklearn.linear_model import LogisticRegression\n",
    "from sklearn.tree import DecisionTreeClassifier\n",
    "from sklearn.neighbors import KNeighborsClassifier\n",
    "from sklearn.svm import SVC\n",
    "from sklearn.naive_bayes import GaussianNB\n",
    "from sklearn.preprocessing import LabelEncoder\n",
    "import pandas as pd\n",
    "from sklearn.metrics import confusion_matrix\n",
    "from sklearn.metrics import accuracy_score, recall_score, precision_score, f1_score\n",
    "from sklearn.model_selection import GridSearchCV\n",
    "from sklearn.ensemble import VotingClassifier"
   ]
  },
  {
   "cell_type": "code",
   "outputs": [],
   "source": [
    "data = pd.read_csv('monkeypox_cleaned.csv')"
   ],
   "metadata": {
    "collapsed": false
   },
   "id": "5d1991327786c1c5",
   "execution_count": null
  },
  {
   "cell_type": "code",
   "outputs": [],
   "source": [
    "X = data[['Systemic Illness', 'Rectal Pain', 'Sore Throat', 'Penile Oedema', 'Oral Lesions',\n",
    "          'Solitary Lesion', 'Swollen Tonsils', 'HIV Infection', 'Red blood cells', 'White blood cells',\n",
    "          'Age', 'Sexually Transmitted Infection']]\n",
    "y = data['MPOX']"
   ],
   "metadata": {
    "collapsed": false
   },
   "id": "b05fd07db89c5a2e",
   "execution_count": null
  },
  {
   "cell_type": "code",
   "outputs": [],
   "source": [
    "le = LabelEncoder()"
   ],
   "metadata": {
    "collapsed": false
   },
   "id": "115517f8e726eb95",
   "execution_count": null
  },
  {
   "cell_type": "code",
   "outputs": [],
   "source": [
    "categorical_features = ['Systemic Illness', 'Rectal Pain', 'Sore Throat', 'Penile Oedema', 'Oral Lesions',\n",
    "                        'Solitary Lesion', 'Swollen Tonsils', 'HIV Infection', 'Sexually Transmitted Infection']\n",
    "for feature in categorical_features:\n",
    "    X[feature] = le.fit_transform(X[feature])"
   ],
   "metadata": {
    "collapsed": false
   },
   "id": "24861136ea748e2e",
   "execution_count": null
  },
  {
   "cell_type": "code",
   "outputs": [],
   "source": [
    "test_size = 0.2\n",
    "random_state = 42\n",
    "X_train, X_test, y_train, y_test = train_test_split(X, y, test_size=test_size, random_state=random_state, stratify=y)"
   ],
   "metadata": {
    "collapsed": false
   },
   "id": "23a3862f35d5c119",
   "execution_count": null
  },
  {
   "cell_type": "code",
   "outputs": [],
   "source": [
    "print(\"Feature names used for building the classification models:\")\n",
    "print(X.columns.tolist())"
   ],
   "metadata": {
    "collapsed": false
   },
   "id": "ca08366289f6b666",
   "execution_count": null
  },
  {
   "cell_type": "code",
   "outputs": [],
   "source": [
    "print(\"\\nShape of the training set (X_train):\", X_train.shape)\n",
    "print(\"Shape of the training set (y_train):\", y_train.shape)\n",
    "print(\"Shape of the test set (X_test):\", X_test.shape)\n",
    "print(\"Shape of the test set (y_test):\", y_test.shape)"
   ],
   "metadata": {
    "collapsed": false
   },
   "id": "5cf038a6438006f3",
   "execution_count": null
  },
  {
   "cell_type": "code",
   "outputs": [],
   "source": [
    "lr_model = LogisticRegression(random_state=random_state)\n",
    "dt_model = DecisionTreeClassifier(random_state=random_state)\n",
    "knn_model = KNeighborsClassifier()\n",
    "svm_model = SVC(kernel='rbf', random_state=random_state)\n",
    "nb_model = GaussianNB()\n",
    "\n",
    "models = [lr_model, dt_model, knn_model, svm_model, nb_model]\n",
    "\n",
    "for model in models:\n",
    "    model.fit(X_train, y_train)"
   ],
   "metadata": {
    "collapsed": false
   },
   "id": "d88b857caf54bf57",
   "execution_count": null
  },
  {
   "cell_type": "code",
   "outputs": [],
   "source": [
    "models = [lr_model, dt_model, knn_model, svm_model, nb_model]\n",
    "model_names = ['Logistic Regression', 'Decision Tree', 'K-Nearest Neighbors', 'Support Vector Machine (RBF)', 'Naive Bayes']"
   ],
   "metadata": {
    "collapsed": false
   },
   "id": "3d414b1596acb430",
   "execution_count": null
  },
  {
   "cell_type": "code",
   "outputs": [],
   "source": [
    "for model, name in zip(models, model_names):\n",
    "    # Make predictions on the test set\n",
    "    y_pred = model.predict(X_test)\n",
    "    \n",
    "    # Compute the confusion matrix\n",
    "    cm = confusion_matrix(y_test, y_pred)\n",
    "    \n",
    "    # Print the confusion matrix for each model\n",
    "    print(f\"Confusion Matrix for {name}:\")\n",
    "    print(cm)\n",
    "    print()"
   ],
   "metadata": {
    "collapsed": false
   },
   "id": "8f01de67c950c178",
   "execution_count": null
  },
  {
   "cell_type": "code",
   "outputs": [],
   "source": [
    "for model, name in zip(models, model_names):\n",
    "    y_pred = model.predict(X_test)\n",
    "    recall = recall_score(y_test, y_pred, pos_label='Positive')\n",
    "    precision = precision_score(y_test, y_pred, pos_label='Positive')\n",
    "    f1 = f1_score(y_test, y_pred, pos_label='Positive')\n",
    "    print(f\"{name}:\")\n",
    "    print(f\"Recall: {recall:.2f}\")\n",
    "    print(f\"Precision: {precision:.2f}\")\n",
    "    print(f\"F1-score: {f1:.2f}\")\n",
    "    print()"
   ],
   "metadata": {
    "collapsed": false
   },
   "id": "f0cb93e395083652",
   "execution_count": null
  },
  {
   "cell_type": "markdown",
   "source": [
    "Decission tree selected as model"
   ],
   "metadata": {
    "collapsed": false
   },
   "id": "22f3c895f3ce4c11"
  },
  {
   "cell_type": "markdown",
   "source": [
    "Define the hyperparameter grid for Decision Tree"
   ],
   "metadata": {
    "collapsed": false
   },
   "id": "b6d7bbdf75ab37d5"
  },
  {
   "cell_type": "markdown",
   "source": [],
   "metadata": {
    "collapsed": false
   },
   "id": "afe74050b095399f"
  },
  {
   "cell_type": "code",
   "outputs": [],
   "source": [
    "param_grid = {\n",
    "    'max_depth': [None, 5, 10, 15],\n",
    "    'min_samples_split': [2, 5, 10],\n",
    "    'min_samples_leaf': [1, 2, 4],\n",
    "    'criterion': ['gini', 'entropy']\n",
    "}"
   ],
   "metadata": {
    "collapsed": false
   },
   "id": "53e84cf882111a18",
   "execution_count": null
  },
  {
   "cell_type": "markdown",
   "source": [
    "Create the GridSearchCV object"
   ],
   "metadata": {
    "collapsed": false
   },
   "id": "f9f3ec579c25285d"
  },
  {
   "cell_type": "code",
   "outputs": [],
   "source": [
    "grid_search = GridSearchCV(estimator=dt_model, param_grid=param_grid, cv=5, scoring='f1')"
   ],
   "metadata": {
    "collapsed": false
   },
   "id": "9164b45c67cf17ad",
   "execution_count": null
  },
  {
   "cell_type": "markdown",
   "source": [
    "Perform the grid search"
   ],
   "metadata": {
    "collapsed": false
   },
   "id": "e0e416990c81bc27"
  },
  {
   "cell_type": "code",
   "outputs": [],
   "source": [
    "grid_search.fit(X_train, y_train)"
   ],
   "metadata": {
    "collapsed": false
   },
   "id": "78f2d590ae9d2c2",
   "execution_count": null
  },
  {
   "cell_type": "markdown",
   "source": [
    "Get the best hyperparameters"
   ],
   "metadata": {
    "collapsed": false
   },
   "id": "d9e7b5bb716e8556"
  },
  {
   "cell_type": "code",
   "outputs": [],
   "source": [
    "best_params = grid_search.best_params_\n",
    "print(\"Best Hyperparameters:\", best_params)"
   ],
   "metadata": {
    "collapsed": false
   },
   "id": "627fe0480f2704d0",
   "execution_count": null
  },
  {
   "cell_type": "markdown",
   "source": [
    " Train the Decision Tree model with the best hyperparameters"
   ],
   "metadata": {
    "collapsed": false
   },
   "id": "9e804e7aa316fb48"
  },
  {
   "cell_type": "code",
   "outputs": [],
   "source": [
    "best_dt_model = DecisionTreeClassifier(**best_params)\n",
    "best_dt_model.fit(X_train, y_train)"
   ],
   "metadata": {
    "collapsed": false
   },
   "id": "38c409ce2920e537",
   "execution_count": null
  },
  {
   "cell_type": "markdown",
   "source": [
    "Make predictions on the test set using the best model"
   ],
   "metadata": {
    "collapsed": false
   },
   "id": "6c42b57d90753433"
  },
  {
   "cell_type": "code",
   "outputs": [],
   "source": [
    "y_pred_best = best_dt_model.predict(X_test)"
   ],
   "metadata": {
    "collapsed": false
   },
   "id": "e76ed60c72a1b719",
   "execution_count": null
  },
  {
   "cell_type": "markdown",
   "source": [
    "Print the test confusion matrix"
   ],
   "metadata": {
    "collapsed": false
   },
   "id": "bb4c52f94dbc289"
  },
  {
   "cell_type": "code",
   "outputs": [],
   "source": [
    "print(\"Test Confusion Matrix:\")\n",
    "print(confusion_matrix(y_test, y_pred_best))"
   ],
   "metadata": {
    "collapsed": false
   },
   "id": "27305b5ecb4eeb90",
   "execution_count": null
  },
  {
   "cell_type": "markdown",
   "source": [
    "Calculate the new scores for the selected metrics"
   ],
   "metadata": {
    "collapsed": false
   },
   "id": "38abc169e297ce32"
  },
  {
   "cell_type": "code",
   "outputs": [],
   "source": [
    "recall_best = recall_score(y_test, y_pred_best, pos_label='Positive')\n",
    "precision_best = precision_score(y_test, y_pred_best, pos_label='Positive')\n",
    "f1_best = f1_score(y_test, y_pred_best, pos_label='Positive')\n",
    "\n",
    "print(\"New Scores for the Best Decision Tree Model:\")\n",
    "print(\"Recall:\", recall_best)\n",
    "print(\"Precision:\", precision_best)\n",
    "print(\"F1-score:\", f1_best)"
   ],
   "metadata": {
    "collapsed": false
   },
   "id": "acb20aa95eb6932",
   "execution_count": null
  },
  {
   "cell_type": "markdown",
   "source": [
    "create base learners "
   ],
   "metadata": {
    "collapsed": false
   },
   "id": "b0c178fb817a3494"
  },
  {
   "cell_type": "code",
   "outputs": [],
   "source": [
    "dt_model = DecisionTreeClassifier(random_state=42)\n",
    "svm_model = SVC(kernel='rbf', random_state=42)"
   ],
   "metadata": {
    "collapsed": false
   },
   "id": "5748b5fb3c7604b0",
   "execution_count": null
  },
  {
   "cell_type": "markdown",
   "source": [
    "creating the voting ensemble classifier"
   ],
   "metadata": {
    "collapsed": false
   },
   "id": "715c2a3b11e96ea3"
  },
  {
   "cell_type": "code",
   "outputs": [],
   "source": [
    "voting_model = VotingClassifier(estimators=[('dt', dt_model), ('svm', svm_model)], voting='hard')"
   ],
   "metadata": {
    "collapsed": false
   },
   "id": "399487c6536a4096",
   "execution_count": null
  },
  {
   "cell_type": "markdown",
   "source": [
    "Train the voting ensemble classifier"
   ],
   "metadata": {
    "collapsed": false
   },
   "id": "8fdf1503faa75792"
  },
  {
   "cell_type": "code",
   "outputs": [],
   "source": [
    "voting_model.fit(X_train, y_train)"
   ],
   "metadata": {
    "collapsed": false
   },
   "id": "e8f0ff4a3e5cba21",
   "execution_count": null
  },
  {
   "cell_type": "markdown",
   "source": [
    "Make predictions on the test set using the voting ensemble classifier"
   ],
   "metadata": {
    "collapsed": false
   },
   "id": "d80bbcfa7f5e19dd"
  },
  {
   "cell_type": "code",
   "outputs": [],
   "source": [
    "y_pred_voting = voting_model.predict(X_test)"
   ],
   "metadata": {
    "collapsed": false
   },
   "id": "154e86809773eb79",
   "execution_count": null
  },
  {
   "cell_type": "markdown",
   "source": [
    "Print the test confusion matrix for the voting ensemble classifier"
   ],
   "metadata": {
    "collapsed": false
   },
   "id": "1e1879c1e43a64d2"
  },
  {
   "cell_type": "code",
   "outputs": [],
   "source": [
    "print(\"Test Confusion Matrix for the Voting Ensemble Classifier:\")\n",
    "print(confusion_matrix(y_test, y_pred_voting))"
   ],
   "metadata": {
    "collapsed": false
   },
   "id": "49748245b1fa5104",
   "execution_count": null
  },
  {
   "cell_type": "markdown",
   "source": [
    "Print the test confusion matrices for the individual base learners"
   ],
   "metadata": {
    "collapsed": false
   },
   "id": "a83dcd2d67c746d5"
  },
  {
   "cell_type": "code",
   "outputs": [],
   "source": [
    "print(\"Test Confusion Matrix for the Decision Tree (DT) Model:\")\n",
    "print(confusion_matrix(y_test, dt_model.fit(X_train, y_train).predict(X_test)))\n",
    "\n",
    "print(\"Test Confusion Matrix for the Support Vector Machine with RBF Kernel (SVM-RBF) Model:\")\n",
    "print(confusion_matrix(y_test, svm_model.fit(X_train, y_train).predict(X_test)))"
   ],
   "metadata": {
    "collapsed": false
   },
   "id": "fabbbddf88d92da9",
   "execution_count": null
  }
 ],
 "metadata": {
  "kernelspec": {
   "display_name": "Python 3",
   "language": "python",
   "name": "python3"
  },
  "language_info": {
   "codemirror_mode": {
    "name": "ipython",
    "version": 2
   },
   "file_extension": ".py",
   "mimetype": "text/x-python",
   "name": "python",
   "nbconvert_exporter": "python",
   "pygments_lexer": "ipython2",
   "version": "2.7.6"
  }
 },
 "nbformat": 4,
 "nbformat_minor": 5
}
